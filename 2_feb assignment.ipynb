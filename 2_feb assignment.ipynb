{
 "cells": [
  {
   "cell_type": "markdown",
   "id": "f73bbd7d",
   "metadata": {},
   "source": [
    "## Assignment on dictionaries ,tuples and sets"
   ]
  },
  {
   "cell_type": "markdown",
   "id": "5ae3e96c",
   "metadata": {},
   "source": [
    "### Q1. What are the characteristics of the tuples? Is tuple immutable?\n",
    "\n",
    "\n",
    " Answer -In Python, tuples are an ordered, immutable, and heterogeneous collection of elements. Some of the main characteristics of tuples are:\n",
    "\n",
    "Order: Tuples maintain the order of the elements that they contain, meaning that the position of each element is fixed.\n",
    "\n",
    "Immutable: Tuples are immutable, which means that their elements cannot be changed once they have been created. This makes tuples an effective way of representing constant values that should not be altered.\n",
    "\n",
    "Heterogeneous: Tuples can contain elements of different data types, making them more flexible than other data structures like lists, which typically contain elements of the same data type.\n",
    "\n",
    "Indexed: Tuples can be accessed by index, just like lists, making it easy to retrieve specific elements.\n",
    "\n",
    "Packing and Unpacking: Tuples can be created by packing elements together, and they can be unpacked into separate variables.\n",
    "\n",
    "Hashable: Tuples can be used as keys in dictionaries, because they are hashable and their values are unique.\n",
    "\n",
    "Efficient: Tuples are more memory-efficient than lists because they have a fixed size and do not require resizing when elements are added or removed.\n",
    "\n",
    "Overall, tuples are a useful data structure in Python for representing small, fixed-size collections of related data.\n",
    "\n",
    "\n",
    "\n",
    "Yes, tuples in Python are immutable. This means that once you create a tuple, you cannot modify its elements. You can access elements in a tuple using indexing, but you cannot change the values of the elements or add or remove elements from the tuple. This immutability is one of the key differences between tuples and lists in Python, which are mutable data structures. The immutability of tuples can be useful for representing values that should not change, such as constant data or items that you want to hash for use as a key in a dictionary."
   ]
  },
  {
   "cell_type": "markdown",
   "id": "deda8164",
   "metadata": {},
   "source": [
    "### Q2. What are the two tuple methods in python? Give an example of each method. Give a reason why tuples have only two in-built methods as compared to Lists.\n",
    "Tuples have only two built-in methods in Python, which are count and index.\n",
    "\n",
    "1. count method: This method takes an element as an argument and returns the number of times the element appears in the tuple. For example:\n",
    "\n",
    " t = (1, 2, 3, 2, 1)\n",
    " \n",
    " t.count(2)\n",
    " \n",
    " 2\n",
    "\n",
    "2. index method: This method takes an element as an argument and returns the index of the first occurrence of the element in the tuple. For example:\n",
    "\n",
    " t = (1, 2, 3, 2, 1)\n",
    " \n",
    " t.index(3)\n",
    " \n",
    " 2\n",
    "\n",
    "\n",
    "The reason that tuples have only two built-in methods compared to lists is because tuples are meant to be simple, efficient data structures for representing small, fixed collections of values. The limited number of methods reflects this design philosophy by providing only the most essential methods for working with tuples. In contrast, lists are meant to be more flexible data structures that can be used for a wider range of tasks, so they have a larger number of built-in methods.\n"
   ]
  },
  {
   "cell_type": "markdown",
   "id": "822634d9",
   "metadata": {},
   "source": [
    "### Q3. Which collection datatypes in python do not allow duplicate items? Write a code using a set to remove duplicates from the given list.\n",
    "### List = [1, 1, 1, 2, 1, 3, 1, 4, 2, 1, 2, 2, 2, 3, 2, 4, 3, 1, 3, 2, 3, 3, 3, 4, 4, 1, 4, 2, 4, 3, 4, 4]\n",
    "\n",
    " Answer -- In python sets are datatypes that do not allow duplicate itemz in them\n",
    "here is code for pulling unique items from above list\n",
    "\n"
   ]
  },
  {
   "cell_type": "code",
   "execution_count": 2,
   "id": "060ef692",
   "metadata": {},
   "outputs": [
    {
     "name": "stdout",
     "output_type": "stream",
     "text": [
      "list without duplicates : [1, 2, 3, 4]\n"
     ]
    }
   ],
   "source": [
    "List = [1, 1, 1, 2, 1, 3, 1, 4, 2, 1, 2, 2, 2, 3, 2, 4, 3, 1, 3, 2, 3, 3, 3, 4, 4, 1, 4, 2, 4, 3, 4, 4]\n",
    "unique_items = set(List)\n",
    "print(\"list without duplicates :\" , list(unique_items))"
   ]
  },
  {
   "cell_type": "markdown",
   "id": "50321c95",
   "metadata": {},
   "source": [
    "### Q4. Explain the difference between the union() and update() methods for a set. Give an example of each method.\n",
    "Answer-- \"union()\" and \"update()\" are both methods used to merge two sets in Python. However, there is a difference between the two:\n",
    "\n",
    "The \"union()\" method returns a new set that contains all the elements of the first set and all the elements of the second set, without any duplicates. The original sets remain unchanged.\n",
    "\n",
    "The \"update()\" method adds all the elements of the second set to the first set. The first set is updated and changed, and there are no duplicates.\n",
    "\n",
    "Here is an example of each method:\n",
    "\n",
    "#### Example of union() method\n",
    "set1 = {1, 2, 3, 4}\n",
    "\n",
    "set2 = {3, 4, 5, 6}\n",
    "\n",
    "set3 = set1.union(set2)\n",
    "\n",
    "print(set3)\n",
    "\n",
    "##### Output: {1, 2, 3, 4, 5, 6}\n",
    "\n",
    "\n",
    "\n",
    "\n",
    "#### Example of update() method\n",
    "set1 = {1, 2, 3, 4}\n",
    "\n",
    "set2 = {3, 4, 5, 6}\n",
    "\n",
    "set1.update(set2)\n",
    "\n",
    "print(set1)\n",
    "\n",
    "##### Output: {1, 2, 3, 4, 5, 6}\n",
    "\n",
    "\n",
    "In the example above, the union() method returns a new set that contains all the elements of set1 and set2, while the update() method updates set1 to include all the elements of set2.\n",
    "\n",
    "\n",
    "\n",
    "\n"
   ]
  },
  {
   "cell_type": "markdown",
   "id": "69037b65",
   "metadata": {},
   "source": [
    "### Q5. What is a dictionary? Give an example. Also, state whether a dictionary is ordered or unordered.\n",
    "Answer -- A dictionary in Python is a collection of key-value pairs, where each key maps to a specific value. A key is an identifier, while a value is the data stored in the dictionary. Dictionaries are implemented as hash tables, and they are mutable, meaning that you can add, remove, and modify items in a dictionary.\n",
    "\n",
    "Here is an example of a dictionary:\n",
    "\n",
    "#### Example of a dictionary\n",
    "\n",
    "person = {\"name\": \"John Doe\", \"age\": 30, \"city\": \"New York\"}\n",
    "\n",
    "print(person)\n",
    "\n",
    "#### Output: {'name': 'John Doe', 'age': 30, 'city': 'New York'}\n",
    "\n",
    "In this example, the dictionary person has three key-value pairs: \"name\" maps to \"John Doe\", \"age\" maps to 30, and \"city\" maps to \"New York\".\n",
    "\n",
    "##### Dictionaries in Python are unordered. This means that the items in a dictionary do not have a specific index or order, and they may not appear in the same order as they were inserted.\n",
    "\n",
    "\n",
    "\n",
    "\n"
   ]
  },
  {
   "cell_type": "markdown",
   "id": "a70c42f7",
   "metadata": {},
   "source": [
    "### Q6. Can we create a nested dictionary? If so, please give an example by creating a simple one-level nested dictionary\n",
    "Answer -- Yes, it is possible to create a nested dictionary in Python. A nested dictionary is a dictionary that contains one or more dictionaries as its values. A simple one-level nested dictionary can be created as follows:\n"
   ]
  },
  {
   "cell_type": "code",
   "execution_count": 3,
   "id": "bbd2c4d1",
   "metadata": {},
   "outputs": [
    {
     "name": "stdout",
     "output_type": "stream",
     "text": [
      "{'name': 'John Doe', 'age': 30, 'address': {'street': '123 Main St', 'city': 'New York', 'state': 'NY', 'zipcode': '10001'}}\n"
     ]
    }
   ],
   "source": [
    "# Example of a one-level nested dictionary\n",
    "person = {\n",
    "    \"name\": \"John Doe\",\n",
    "    \"age\": 30,\n",
    "    \"address\": {\n",
    "        \"street\": \"123 Main St\",\n",
    "        \"city\": \"New York\",\n",
    "        \"state\": \"NY\",\n",
    "        \"zipcode\": \"10001\"\n",
    "    }\n",
    "}\n",
    "\n",
    "print(person)\n",
    "# Output: {'name': 'John Doe', 'age': 30, 'address': {'street': '123 Main St', 'city': 'New York', 'state': 'NY', 'zipcode': '10001'}}\n"
   ]
  },
  {
   "cell_type": "markdown",
   "id": "88bea571",
   "metadata": {},
   "source": [
    "#### In this example, the dictionary person has three key-value pairs: \"name\" maps to \"John Doe\", \"age\" maps to 30, and \"address\" maps to another dictionary with four key-value pairs.\n",
    "\n",
    "\n",
    "\n"
   ]
  },
  {
   "cell_type": "markdown",
   "id": "4a54dd17",
   "metadata": {},
   "source": [
    "### Q7. Using setdefault() method, create key named topics in the given dictionary and also add the value of the key as this list ['Python', 'Machine Learning’, 'Deep Learning']\n"
   ]
  },
  {
   "cell_type": "code",
   "execution_count": 7,
   "id": "302be7bb",
   "metadata": {},
   "outputs": [
    {
     "name": "stdout",
     "output_type": "stream",
     "text": [
      "{'language': 'Python', 'course': 'Data Science Masters', 'topics': ['Python', 'Machine Learning', 'Deep Learning']}\n"
     ]
    }
   ],
   "source": [
    "\n",
    "dict1 = {'language' : 'Python', 'course': 'Data Science Masters'}\n",
    "topics = [\"Python\", \"Machine Learning\", \"Deep Learning\"]\n",
    "dict1.setdefault(\"topics\", topics)\n",
    "print(dict1)          "
   ]
  },
  {
   "cell_type": "markdown",
   "id": "a9a65a95",
   "metadata": {},
   "source": [
    "### Q8. What are the three view objects in dictionaries? Use the three in-built methods in python to display these three view objects for the given dictionary. dict1 = {'Sport': 'Cricket' , 'Teams': ['India', 'Australia', 'England', 'South Africa', 'Sri Lanka', 'New Zealand']}\n",
    "\n",
    " Answer -- The three view objects in dictionaries in Python are:\n",
    " \n",
    "1.keys(): returns a view object that displays a list of all the keys in the dictionary.\n",
    "\n",
    "2.values(): returns a view object that displays a list of all the values in the dictionary.\n",
    "\n",
    "3.items(): returns a view object that displays a list of all the key-value pairs in the dictionary.\n",
    "\n",
    "Here is an example of how to display these three view objects:\n"
   ]
  },
  {
   "cell_type": "code",
   "execution_count": 8,
   "id": "22b217a6",
   "metadata": {},
   "outputs": [
    {
     "name": "stdout",
     "output_type": "stream",
     "text": [
      "Keys: ['Sport', 'Teams']\n",
      "Values: ['Cricket', ['India', 'Australia', 'England', 'South Africa', 'Sri Lanka', 'New Zealand']]\n",
      "Items: [('Sport', 'Cricket'), ('Teams', ['India', 'Australia', 'England', 'South Africa', 'Sri Lanka', 'New Zealand'])]\n"
     ]
    }
   ],
   "source": [
    "dict1 = {'Sport': 'Cricket' , 'Teams': ['India', 'Australia', 'England', 'South Africa', 'Sri Lanka', 'New Zealand']}\n",
    "\n",
    "# Display the keys view object\n",
    "keys = dict1.keys()\n",
    "print(f\"Keys: {list(keys)}\")\n",
    "# Output: Keys: ['Sport', 'Teams']\n",
    "\n",
    "# Display the values view object\n",
    "values = dict1.values()\n",
    "print(f\"Values: {list(values)}\")\n",
    "# Output: Values: ['Cricket', ['India', 'Australia', 'England', 'South Africa', 'Sri Lanka', 'New Zealand']]\n",
    "\n",
    "# Display the items view object\n",
    "items = dict1.items()\n",
    "print(f\"Items: {list(items)}\")\n",
    "# Output: Items: [('Sport', 'Cricket'), ('Teams', ['India', 'Australia', 'England', 'South Africa', 'Sri Lanka', 'New Zealand'])]\n"
   ]
  },
  {
   "cell_type": "code",
   "execution_count": null,
   "id": "566fd94c",
   "metadata": {},
   "outputs": [],
   "source": []
  }
 ],
 "metadata": {
  "kernelspec": {
   "display_name": "Python 3 (ipykernel)",
   "language": "python",
   "name": "python3"
  },
  "language_info": {
   "codemirror_mode": {
    "name": "ipython",
    "version": 3
   },
   "file_extension": ".py",
   "mimetype": "text/x-python",
   "name": "python",
   "nbconvert_exporter": "python",
   "pygments_lexer": "ipython3",
   "version": "3.9.7"
  }
 },
 "nbformat": 4,
 "nbformat_minor": 5
}
