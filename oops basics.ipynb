{
 "cells": [
  {
   "cell_type": "markdown",
   "id": "1efd3b2f",
   "metadata": {},
   "source": [
    "### Q1. Explain Class and Object with respect to Object-Oriented Programming. Give a suitable example."
   ]
  },
  {
   "cell_type": "markdown",
   "id": "b3354f6f",
   "metadata": {},
   "source": [
    "In object-oriented programming, a class is a blueprint or a template for creating objects, which define the attributes and\n",
    "behaviors of those objects. An object, on the other hand, is an instance of a class that encapsulates its own state and behavior.\n",
    "For example, let's consider a class called \"Car\" that defines the attributes and behaviors of a car. The class might have attributes like \"make\", \"model\", \"year\", \"color\", \"speed\", and \"fuel\", and behaviors like \"accelerate\", \"brake\", \"turn\", and \"refuel\".\n",
    "\n",
    "To create an object of the \"Car\" class, we can use the class as a template and specify the specific values for its attributes. For example, we could create an object called \"myCar\" with the make \"Toyota\", model \"Corolla\", year \"2021\", color \"blue\", speed \"0\", and fuel \"full\". We could then use the behaviors of the \"Car\" class to make the \"myCar\" object accelerate, brake, turn, and refuel.\n",
    "\n",
    "Overall, the class provides the structure and definition for the object, while the object represents a specific instance of the class with its own values and behaviors."
   ]
  },
  {
   "cell_type": "code",
   "execution_count": 1,
   "id": "d4d710df",
   "metadata": {},
   "outputs": [
    {
     "name": "stdout",
     "output_type": "stream",
     "text": [
      "Turning left...\n",
      "My car is a 2021 Toyota Corolla in blue color, going 20 mph with full tank.\n"
     ]
    }
   ],
   "source": [
    "#here's an example of defining a Car class in Python and creating an object of that class:\n",
    "class Car:\n",
    "    def __init__(self, make, model, year, color, speed=0, fuel='full'):\n",
    "        self.make = make\n",
    "        self.model = model\n",
    "        self.year = year\n",
    "        self.color = color\n",
    "        self.speed = speed\n",
    "        self.fuel = fuel\n",
    "\n",
    "    def accelerate(self, amount):\n",
    "        self.speed += amount\n",
    "\n",
    "    def brake(self, amount):\n",
    "        self.speed -= amount\n",
    "\n",
    "    def turn(self, direction):\n",
    "        print(f\"Turning {direction}...\")\n",
    "\n",
    "    def refuel(self):\n",
    "        self.fuel = 'full'\n",
    "        \n",
    "# Create an object of the Car class\n",
    "my_car = Car('Toyota', 'Corolla', 2021, 'blue')\n",
    "\n",
    "# Use the behaviors of the Car class to modify the object\n",
    "my_car.accelerate(30)\n",
    "my_car.turn('left')\n",
    "my_car.brake(10)\n",
    "my_car.refuel()\n",
    "\n",
    "# Print the current state of the object\n",
    "print(f\"My car is a {my_car.year} {my_car.make} {my_car.model} in {my_car.color} color, going {my_car.speed} mph with {my_car.fuel} tank.\")\n"
   ]
  },
  {
   "cell_type": "markdown",
   "id": "b7f1e0c6",
   "metadata": {},
   "source": [
    "In this example, we define the Car class with its attributes and behaviors. Then we create an object of the Car class with specific values for its attributes using the __init__ method. We then use the methods of the Car class to modify the my_car object. Finally, we print the current state of the my_car object using its attributes."
   ]
  },
  {
   "cell_type": "markdown",
   "id": "883ade43",
   "metadata": {},
   "source": [
    "### Q2. Name the four pillars of OOPs.\n"
   ]
  },
  {
   "cell_type": "markdown",
   "id": "5eec7b93",
   "metadata": {},
   "source": [
    "The four pillars of Object-Oriented Programming (OOP) are:\n",
    "\n",
    "Encapsulation: Encapsulation is the technique of hiding the implementation details of an object and exposing only the necessary information through a public interface. It helps to protect the object's data from being modified or accessed in unintended ways, and promotes modular and scalable code.\n",
    "\n",
    "Abstraction: Abstraction is the process of defining a simplified representation of a complex system or entity. In OOP, abstraction is achieved through the use of abstract classes and interfaces, which define a common set of methods and properties that can be implemented by concrete classes. Abstraction helps to reduce complexity and increase code reusability.\n",
    "\n",
    "Inheritance: Inheritance is the mechanism by which a new class is created by inheriting properties and behaviors from an existing class. The existing class is called the parent or base class, and the new class is called the child or derived class. Inheritance promotes code reusability, reduces code duplication, and enables polymorphism.\n",
    "\n",
    "Polymorphism: Polymorphism is the ability of an object to take on many forms or behaviors. In OOP, polymorphism is achieved through method overriding and method overloading. Method overriding allows a derived class to provide its own implementation of a method that is already defined in its base class, while method overloading allows a class to define multiple methods with the same name but different parameters. Polymorphism enables flexibility and extensibility in code design.\n",
    "\n",
    "\n",
    "\n"
   ]
  },
  {
   "cell_type": "markdown",
   "id": "aa19ac5d",
   "metadata": {},
   "source": [
    "### Q3. Explain why the __init__() function is used. Give a suitable example."
   ]
  },
  {
   "cell_type": "markdown",
   "id": "f4479c3e",
   "metadata": {},
   "source": [
    "The __init__() function is a special method in Python classes that is called when an object of the class is created. It is used to initialize the attributes of the object with default or provided values.\n",
    "\n",
    "The __init__() method is important because it ensures that the object is in a valid and consistent state when it is created. It also provides a way to set default values for the object's attributes, so that the object is not created with undefined or uninitialized values."
   ]
  },
  {
   "cell_type": "code",
   "execution_count": 2,
   "id": "12f301cd",
   "metadata": {},
   "outputs": [
    {
     "name": "stdout",
     "output_type": "stream",
     "text": [
      "My name is Alice and I am 25 years old.\n"
     ]
    }
   ],
   "source": [
    "# Here is an example of using the __init__() method to create a Person class in Python:\n",
    "class Person:\n",
    "    def __init__(self, name, age):\n",
    "        self.name = name\n",
    "        self.age = age\n",
    "\n",
    "    def introduce(self):\n",
    "        print(f\"My name is {self.name} and I am {self.age} years old.\")\n",
    "\n",
    "# Create a Person object with a provided name and age\n",
    "person1 = Person(\"Alice\", 25)\n",
    "\n",
    "# Use the introduce method to print the object's attributes\n",
    "person1.introduce()\n"
   ]
  },
  {
   "cell_type": "markdown",
   "id": "349928f3",
   "metadata": {},
   "source": [
    "In this example, we define a Person class with a __init__() method that initializes the name and age attributes of the object. We also define a introduce() method that prints the name and age attributes of the object.\n",
    "\n",
    "We create an object of the Person class called person1 with the name \"Alice\" and age 25. When we call the introduce() method on the person1 object, it prints \"My name is Alice and I am 25 years old.\" This demonstrates how the __init__() method is used to set the initial state of an object, and how the object's attributes can be accessed and used through its methods."
   ]
  },
  {
   "cell_type": "markdown",
   "id": "c4b56a16",
   "metadata": {},
   "source": [
    "### Q4. Why self is used in OOPs?"
   ]
  },
  {
   "cell_type": "markdown",
   "id": "fdaaf513",
   "metadata": {},
   "source": [
    "In Object-Oriented Programming (OOP), self is a special keyword that refers to the object or instance of a class that is currently being operated on.\n",
    "\n",
    "When a method is called on an object, self is passed automatically as the first parameter to the method. This allows the method to access and manipulate the object's attributes and methods, as well as call other methods on the object.\n",
    "\n",
    "The use of self is important because it allows multiple instances of the same class to be created, each with its own set of attributes and behaviors. Without self, the class would not be able to distinguish between different instances and would not be able to access or modify their specific attributes."
   ]
  },
  {
   "cell_type": "code",
   "execution_count": 3,
   "id": "be19b63b",
   "metadata": {},
   "outputs": [],
   "source": [
    "# Here is an example of using self in a Person class:\n",
    "class Person:\n",
    "    def __init__(self, name, age):\n",
    "        self.name = name\n",
    "        self.age = age\n",
    "\n",
    "    def introduce(self):\n",
    "        print(f\"My name is {self.name} and I am {self.age} years old.\")\n"
   ]
  },
  {
   "cell_type": "markdown",
   "id": "235db2d3",
   "metadata": {},
   "source": [
    "In this example, we define a Person class with an __init__() method that initializes the name and age attributes of the object using the self keyword. We also define an introduce() method that uses the self keyword to access the object's name and age attributes and print them.\n",
    "\n",
    "When we create an instance of the Person class, the self keyword is automatically passed to the methods of that instance, allowing us to access and manipulate the instance's specific attributes. For example:"
   ]
  },
  {
   "cell_type": "code",
   "execution_count": 4,
   "id": "6c92e0a8",
   "metadata": {},
   "outputs": [
    {
     "name": "stdout",
     "output_type": "stream",
     "text": [
      "My name is Alice and I am 25 years old.\n"
     ]
    }
   ],
   "source": [
    "person1 = Person(\"Alice\", 25)\n",
    "person1.introduce()\n"
   ]
  },
  {
   "cell_type": "markdown",
   "id": "23ee8ac6",
   "metadata": {},
   "source": [
    "In this code, we create an instance of the Person class called person1 with the name \"Alice\" and age 25. When we call the introduce() method on the person1 instance, the self keyword is used to access the name and age attributes of that instance and print them."
   ]
  },
  {
   "cell_type": "markdown",
   "id": "85c5d3e0",
   "metadata": {},
   "source": [
    "### Q5. What is inheritance? Give an example for each type of inheritance."
   ]
  },
  {
   "cell_type": "markdown",
   "id": "50b0ecad",
   "metadata": {},
   "source": [
    "Inheritance is a key concept in Object-Oriented Programming (OOP) that allows one class to inherit attributes and methods from another class. Inheritance helps to avoid code duplication and promotes code reuse, by allowing new classes to be defined based on existing ones.\n",
    "There are four types of inheritance:"
   ]
  },
  {
   "cell_type": "markdown",
   "id": "64d4e0dc",
   "metadata": {},
   "source": [
    "#### Single inheritance:\n",
    "When a class inherits from a single base class, it is called single inheritance. In this case, the derived class inherits all the attributes and methods of the base class."
   ]
  },
  {
   "cell_type": "code",
   "execution_count": 6,
   "id": "d37afcac",
   "metadata": {},
   "outputs": [
    {
     "name": "stdout",
     "output_type": "stream",
     "text": [
      "The Toyota Corolla starts.\n"
     ]
    }
   ],
   "source": [
    "#example\n",
    "class Vehicle:\n",
    "    def __init__(self, make, model, year):\n",
    "        self.make = make\n",
    "        self.model = model\n",
    "        self.year = year\n",
    "\n",
    "class Car(Vehicle):\n",
    "    def start(self):\n",
    "        print(f\"The {self.make} {self.model} starts.\")\n",
    "\n",
    "my_car = Car(\"Toyota\", \"Corolla\", 2022)\n",
    "my_car.start()\n"
   ]
  },
  {
   "cell_type": "markdown",
   "id": "133f713d",
   "metadata": {},
   "source": [
    "In this example, we define a Vehicle class with an __init__() method that initializes the make, model, and year attributes of a vehicle. We then define a Car class that inherits from the Vehicle class and defines a start() method that prints a message about starting the car.\n",
    "\n",
    "When we create a Car object, it inherits the make, model, and year attributes from the Vehicle class, and we can call the start() method on the Car object."
   ]
  },
  {
   "cell_type": "markdown",
   "id": "1c749b99",
   "metadata": {},
   "source": [
    "#### Multi-level inheritance:\n",
    "When a class is derived from a base class, which is already derived from another base class, it is called multi-level inheritance. In this case, the derived class inherits all the attributes and methods of both base classes."
   ]
  },
  {
   "cell_type": "code",
   "execution_count": 7,
   "id": "98c88445",
   "metadata": {},
   "outputs": [
    {
     "name": "stdout",
     "output_type": "stream",
     "text": [
      "The Tesla Model S starts.\n",
      "The Tesla Model S is charging.\n"
     ]
    }
   ],
   "source": [
    "# example\n",
    "class Vehicle:\n",
    "    def __init__(self, make, model, year):\n",
    "        self.make = make\n",
    "        self.model = model\n",
    "        self.year = year\n",
    "\n",
    "class Car(Vehicle):\n",
    "    def start(self):\n",
    "        print(f\"The {self.make} {self.model} starts.\")\n",
    "\n",
    "class ElectricCar(Car):\n",
    "    def charge(self):\n",
    "        print(f\"The {self.make} {self.model} is charging.\")\n",
    "\n",
    "my_ecar = ElectricCar(\"Tesla\", \"Model S\", 2022)\n",
    "my_ecar.start()\n",
    "my_ecar.charge()\n"
   ]
  },
  {
   "cell_type": "markdown",
   "id": "e7bca126",
   "metadata": {},
   "source": [
    "In this example, we define a Vehicle class, a Car class that inherits from Vehicle, and an ElectricCar class that inherits from Car.\n",
    "\n",
    "The ElectricCar class inherits all the attributes and methods of both the Car and Vehicle classes, so we can use the start() method from the Car class and the __init__() method from the Vehicle class, as well as defining a new charge() method."
   ]
  },
  {
   "cell_type": "markdown",
   "id": "79ebefbf",
   "metadata": {},
   "source": [
    "#### Hierarchical inheritance: \n",
    "When more than one derived classes are created from a single base class, it is called hierarchical inheritance. In this case, the base class is inherited by multiple derived classes."
   ]
  },
  {
   "cell_type": "code",
   "execution_count": 8,
   "id": "ba89fc99",
   "metadata": {},
   "outputs": [
    {
     "name": "stdout",
     "output_type": "stream",
     "text": [
      "The Toyota Corolla starts.\n",
      "The Ford F-150 is loading.\n"
     ]
    }
   ],
   "source": [
    "#example\n",
    "class Vehicle:\n",
    "    def __init__(self, make, model, year):\n",
    "        self.make = make\n",
    "        self.model = model\n",
    "        self.year = year\n",
    "\n",
    "class Car(Vehicle):\n",
    "    def start(self):\n",
    "        print(f\"The {self.make} {self.model} starts.\")\n",
    "\n",
    "class Truck(Vehicle):\n",
    "    def load(self):\n",
    "        print(f\"The {self.make} {self.model} is loading.\")\n",
    "\n",
    "my_car = Car(\"Toyota\", \"Corolla\", 2022)\n",
    "my_truck = Truck(\"Ford\", \"F-150\", 2022)\n",
    "my_car.start()\n",
    "my_truck.load()\n"
   ]
  },
  {
   "cell_type": "markdown",
   "id": "f7cbde4f",
   "metadata": {},
   "source": [
    "In this example, we define a Vehicle class and two derived classes, Car and Truck. Both Car and Truck inherit from the Vehicle class and can use the __init__() method of the base class. However, Car defines a start() method and Truck defines a load() method, which are specific to the respective classes."
   ]
  },
  {
   "cell_type": "markdown",
   "id": "b8fa1f55",
   "metadata": {},
   "source": [
    "### Multiple inheritance:\n",
    "When a class inherits from more than one base class, it is called multiple inheritance. In this case, the derived class inherits all the attributes and methods of all the base classes."
   ]
  },
  {
   "cell_type": "code",
   "execution_count": 9,
   "id": "4e3c705e",
   "metadata": {},
   "outputs": [
    {
     "name": "stdout",
     "output_type": "stream",
     "text": [
      "I can eat.\n",
      "I can fly.\n"
     ]
    }
   ],
   "source": [
    "# example\n",
    "class Animal:\n",
    "    def eat(self):\n",
    "        print(\"I can eat.\")\n",
    "\n",
    "class Bird:\n",
    "    def fly(self):\n",
    "        print(\"I can fly.\")\n",
    "\n",
    "class Eagle(Animal, Bird):\n",
    "    def __init__(self, name):\n",
    "        self.name = name\n",
    "\n",
    "my_eagle = Eagle(\"Bald Eagle\")\n",
    "my_eagle.eat()\n",
    "my_eagle.fly()\n"
   ]
  },
  {
   "cell_type": "markdown",
   "id": "30da8237",
   "metadata": {},
   "source": [
    "In this example, we define two base classes, Animal and Bird, which have a eat() method and a fly() method, respectively. We then define an Eagle class that inherits from both Animal and Bird. The Eagle class can use both the eat() and fly() methods of the base classes."
   ]
  },
  {
   "cell_type": "markdown",
   "id": "4c514e56",
   "metadata": {},
   "source": [
    "#### Hybrid inheritance: \n",
    "Hybrid inheritance is a combination of two or more types of inheritance. It involves combining more than one type of inheritance, such as single and multiple inheritance or hierarchical and multiple inheritance."
   ]
  },
  {
   "cell_type": "code",
   "execution_count": 10,
   "id": "05870961",
   "metadata": {},
   "outputs": [
    {
     "name": "stdout",
     "output_type": "stream",
     "text": [
      "The Toyota Highlander starts.\n",
      "The Toyota Highlander is driving in electric mode.\n"
     ]
    }
   ],
   "source": [
    "#example\n",
    "class Vehicle:\n",
    "    def __init__(self, make, model, year):\n",
    "        self.make = make\n",
    "        self.model = model\n",
    "        self.year = year\n",
    "\n",
    "class Car(Vehicle):\n",
    "    def start(self):\n",
    "        print(f\"The {self.make} {self.model} starts.\")\n",
    "\n",
    "class HybridCar(Car):\n",
    "    def drive(self):\n",
    "        print(f\"The {self.make} {self.model} is driving in electric mode.\")\n",
    "\n",
    "class GasCar(Car):\n",
    "    def drive(self):\n",
    "        print(f\"The {self.make} {self.model} is driving in gas mode.\")\n",
    "\n",
    "class HybridSUV(HybridCar, GasCar):\n",
    "    pass\n",
    "\n",
    "my_suv = HybridSUV(\"Toyota\", \"Highlander\", 2022)\n",
    "my_suv.start()\n",
    "my_suv.drive()\n"
   ]
  },
  {
   "cell_type": "markdown",
   "id": "8a330e58",
   "metadata": {},
   "source": [
    "In this example, we define a Vehicle class and two derived classes, Car and HybridCar. HybridCar inherits from Car, and adds a drive() method. We also define a GasCar class, which also inherits from Car and adds a drive() method. Finally, we define a HybridSUV class that inherits from both HybridCar and GasCar.\n",
    "\n",
    "The HybridSUV class uses the drive() method of both HybridCar and GasCar classes, since it inherits from both. This is an example of hybrid inheritance, as it combines both single and multiple inheritance."
   ]
  }
 ],
 "metadata": {
  "kernelspec": {
   "display_name": "Python 3 (ipykernel)",
   "language": "python",
   "name": "python3"
  },
  "language_info": {
   "codemirror_mode": {
    "name": "ipython",
    "version": 3
   },
   "file_extension": ".py",
   "mimetype": "text/x-python",
   "name": "python",
   "nbconvert_exporter": "python",
   "pygments_lexer": "ipython3",
   "version": "3.9.7"
  }
 },
 "nbformat": 4,
 "nbformat_minor": 5
}
